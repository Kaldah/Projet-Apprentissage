{
  "cells": [
    {
      "cell_type": "markdown",
      "metadata": {
        "id": "view-in-github",
        "colab_type": "text"
      },
      "source": [
        "<a href=\"https://colab.research.google.com/github/Kaldah/Projet-Apprentissage/blob/main/MineRL_v1_0_0_VPT.ipynb\" target=\"_parent\"><img src=\"https://colab.research.google.com/assets/colab-badge.svg\" alt=\"Open In Colab\"/></a>"
      ]
    },
    {
      "cell_type": "markdown",
      "metadata": {
        "id": "npof6Za8sbQB"
      },
      "source": [
        "# Installation etc etc (takes ~20 minutes)"
      ],
      "id": "npof6Za8sbQB"
    },
    {
      "cell_type": "code",
      "execution_count": null,
      "metadata": {
        "colab": {
          "base_uri": "https://localhost:8080/"
        },
        "id": "4ad45662",
        "outputId": "e1546aa2-15fe-4c56-c109-b23c253c6e68"
      },
      "outputs": [
        {
          "name": "stdout",
          "output_type": "stream",
          "text": [
            "debconf: unable to initialize frontend: Dialog\n",
            "debconf: (No usable dialog-like program is installed, so the dialog based frontend cannot be used. at /usr/share/perl5/Debconf/FrontEnd/Dialog.pm line 76, <> line 16.)\n",
            "debconf: falling back to frontend: Readline\n",
            "debconf: unable to initialize frontend: Readline\n",
            "debconf: (This frontend requires a controlling tty.)\n",
            "debconf: falling back to frontend: Teletype\n",
            "dpkg-preconfigure: unable to re-open stdin: \n"
          ]
        }
      ],
      "source": [
        "!sudo add-apt-repository -y ppa:openjdk-r/ppa > /dev/null\n",
        "!sudo apt-get purge openjdk-* -y > /dev/null\n",
        "!sudo apt-get install openjdk-8-jdk -y > /dev/null"
      ],
      "id": "4ad45662"
    },
    {
      "cell_type": "code",
      "execution_count": null,
      "metadata": {
        "colab": {
          "base_uri": "https://localhost:8080/"
        },
        "id": "YBvg38W9m_Na",
        "outputId": "73d8c406-112a-4532-b055-a782e059d036"
      },
      "outputs": [
        {
          "name": "stdout",
          "output_type": "stream",
          "text": [
            "Cloning into 'video-pre-training'...\n",
            "remote: Enumerating objects: 137, done.\u001b[K\n",
            "remote: Counting objects: 100% (54/54), done.\u001b[K\n",
            "remote: Compressing objects: 100% (37/37), done.\u001b[K\n",
            "remote: Total 137 (delta 36), reused 24 (delta 17), pack-reused 83\u001b[K\n",
            "Receiving objects: 100% (137/137), 94.38 KiB | 7.86 MiB/s, done.\n",
            "Resolving deltas: 100% (63/63), done.\n",
            "/content/video-pre-training\n"
          ]
        }
      ],
      "source": [
        "!git clone https://github.com/openai/video-pre-training\n",
        "%cd video-pre-training"
      ],
      "id": "YBvg38W9m_Na"
    },
    {
      "cell_type": "code",
      "execution_count": null,
      "metadata": {
        "colab": {
          "background_save": true,
          "base_uri": "https://localhost:8080/"
        },
        "id": "2f8ffcdc",
        "outputId": "b1f80dda-834d-4927-db86-1efef858a4bc"
      },
      "outputs": [
        {
          "name": "stdout",
          "output_type": "stream",
          "text": [
            "Looking in indexes: https://pypi.org/simple, https://us-python.pkg.dev/colab-wheels/public/simple/\n",
            "Collecting git+https://github.com/minerllabs/minerl@v1.0.0\n",
            "  Cloning https://github.com/minerllabs/minerl (to revision v1.0.0) to /tmp/pip-req-build-jjcdbbwl\n",
            "  Running command git clone -q https://github.com/minerllabs/minerl /tmp/pip-req-build-jjcdbbwl\n",
            "  Running command git checkout -b v1.0.0 --track origin/v1.0.0\n",
            "  Switched to a new branch 'v1.0.0'\n",
            "  Branch 'v1.0.0' set up to track remote branch 'v1.0.0' from 'origin'.\n",
            "Requirement already satisfied: gym<0.20,>=0.13.1 in /usr/local/lib/python3.7/dist-packages (from minerl==1.0.0) (0.17.3)\n",
            "Requirement already satisfied: opencv-python>=4.1.0.25 in /usr/local/lib/python3.7/dist-packages (from minerl==1.0.0) (4.6.0.66)\n",
            "Requirement already satisfied: setuptools>=49.2.0 in /usr/local/lib/python3.7/dist-packages (from minerl==1.0.0) (57.4.0)\n",
            "Requirement already satisfied: tqdm>=4.32.2 in /usr/local/lib/python3.7/dist-packages (from minerl==1.0.0) (4.64.0)\n",
            "Requirement already satisfied: numpy>=1.16.2 in /usr/local/lib/python3.7/dist-packages (from minerl==1.0.0) (1.21.6)\n",
            "Requirement already satisfied: requests>=2.20.0 in /usr/local/lib/python3.7/dist-packages (from minerl==1.0.0) (2.23.0)\n",
            "Collecting ipython>=7.5.0\n",
            "  Downloading ipython-7.34.0-py3-none-any.whl (793 kB)\n",
            "\u001b[K     |████████████████████████████████| 793 kB 16.8 MB/s \n",
            "\u001b[?25hCollecting typing>=3.6.6\n",
            "  Downloading typing-3.7.4.3.tar.gz (78 kB)\n",
            "\u001b[K     |████████████████████████████████| 78 kB 8.3 MB/s \n",
            "\u001b[?25hCollecting lxml>=4.3.3\n",
            "  Downloading lxml-4.9.1-cp37-cp37m-manylinux_2_17_x86_64.manylinux2014_x86_64.manylinux_2_24_x86_64.whl (6.4 MB)\n",
            "\u001b[K     |████████████████████████████████| 6.4 MB 53.6 MB/s \n",
            "\u001b[?25hCollecting psutil>=5.6.2\n",
            "  Downloading psutil-5.9.1-cp37-cp37m-manylinux_2_12_x86_64.manylinux2010_x86_64.manylinux_2_17_x86_64.manylinux2014_x86_64.whl (281 kB)\n",
            "\u001b[K     |████████████████████████████████| 281 kB 59.2 MB/s \n",
            "\u001b[?25hCollecting Pyro4>=4.76\n",
            "  Downloading Pyro4-4.82-py2.py3-none-any.whl (89 kB)\n",
            "\u001b[K     |████████████████████████████████| 89 kB 9.7 MB/s \n",
            "\u001b[?25hCollecting coloredlogs>=10.0\n",
            "  Downloading coloredlogs-15.0.1-py2.py3-none-any.whl (46 kB)\n",
            "\u001b[K     |████████████████████████████████| 46 kB 4.2 MB/s \n",
            "\u001b[?25hCollecting pillow>=8.0.0\n",
            "  Downloading Pillow-9.2.0-cp37-cp37m-manylinux_2_17_x86_64.manylinux2014_x86_64.whl (3.1 MB)\n",
            "\u001b[K     |████████████████████████████████| 3.1 MB 30.7 MB/s \n",
            "\u001b[?25hRequirement already satisfied: dill>=0.3.1.1 in /usr/local/lib/python3.7/dist-packages (from minerl==1.0.0) (0.3.5.1)\n",
            "Collecting daemoniker>=0.2.3\n",
            "  Downloading daemoniker-0.2.3-py3-none-any.whl (33 kB)\n",
            "Collecting xmltodict==0.12.0\n",
            "  Downloading xmltodict-0.12.0-py2.py3-none-any.whl (9.2 kB)\n",
            "Collecting inflection>=0.3.1\n",
            "  Downloading inflection-0.5.1-py2.py3-none-any.whl (9.5 kB)\n",
            "Requirement already satisfied: jinja2>=2.11.2 in /usr/local/lib/python3.7/dist-packages (from minerl==1.0.0) (2.11.3)\n",
            "Collecting imagehash>=4.0.0\n",
            "  Downloading ImageHash-4.2.1.tar.gz (812 kB)\n",
            "\u001b[K     |████████████████████████████████| 812 kB 58.4 MB/s \n",
            "\u001b[?25hCollecting flaky\n",
            "  Downloading flaky-3.7.0-py2.py3-none-any.whl (22 kB)\n",
            "Requirement already satisfied: pyglet in /usr/local/lib/python3.7/dist-packages (from minerl==1.0.0) (1.5.0)\n",
            "Collecting getch>=1.0\n",
            "  Downloading getch-1.0.tar.gz (1.3 kB)\n",
            "Collecting humanfriendly>=9.1\n",
            "  Downloading humanfriendly-10.0-py2.py3-none-any.whl (86 kB)\n",
            "\u001b[K     |████████████████████████████████| 86 kB 6.8 MB/s \n",
            "\u001b[?25hRequirement already satisfied: scipy in /usr/local/lib/python3.7/dist-packages (from gym<0.20,>=0.13.1->minerl==1.0.0) (1.7.3)\n",
            "Requirement already satisfied: cloudpickle<1.7.0,>=1.2.0 in /usr/local/lib/python3.7/dist-packages (from gym<0.20,>=0.13.1->minerl==1.0.0) (1.3.0)\n",
            "Requirement already satisfied: six in /usr/local/lib/python3.7/dist-packages (from imagehash>=4.0.0->minerl==1.0.0) (1.15.0)\n",
            "Requirement already satisfied: PyWavelets in /usr/local/lib/python3.7/dist-packages (from imagehash>=4.0.0->minerl==1.0.0) (1.3.0)\n",
            "Requirement already satisfied: jedi>=0.16 in /usr/local/lib/python3.7/dist-packages (from ipython>=7.5.0->minerl==1.0.0) (0.18.1)\n",
            "Requirement already satisfied: pickleshare in /usr/local/lib/python3.7/dist-packages (from ipython>=7.5.0->minerl==1.0.0) (0.7.5)\n",
            "Requirement already satisfied: matplotlib-inline in /usr/local/lib/python3.7/dist-packages (from ipython>=7.5.0->minerl==1.0.0) (0.1.3)\n",
            "Collecting prompt-toolkit!=3.0.0,!=3.0.1,<3.1.0,>=2.0.0\n",
            "  Downloading prompt_toolkit-3.0.30-py3-none-any.whl (381 kB)\n",
            "\u001b[K     |████████████████████████████████| 381 kB 58.2 MB/s \n",
            "\u001b[?25hRequirement already satisfied: backcall in /usr/local/lib/python3.7/dist-packages (from ipython>=7.5.0->minerl==1.0.0) (0.2.0)\n",
            "Requirement already satisfied: decorator in /usr/local/lib/python3.7/dist-packages (from ipython>=7.5.0->minerl==1.0.0) (4.4.2)\n",
            "Requirement already satisfied: traitlets>=4.2 in /usr/local/lib/python3.7/dist-packages (from ipython>=7.5.0->minerl==1.0.0) (5.1.1)\n",
            "Requirement already satisfied: pygments in /usr/local/lib/python3.7/dist-packages (from ipython>=7.5.0->minerl==1.0.0) (2.6.1)\n",
            "Requirement already satisfied: pexpect>4.3 in /usr/local/lib/python3.7/dist-packages (from ipython>=7.5.0->minerl==1.0.0) (4.8.0)\n",
            "Requirement already satisfied: parso<0.9.0,>=0.8.0 in /usr/local/lib/python3.7/dist-packages (from jedi>=0.16->ipython>=7.5.0->minerl==1.0.0) (0.8.3)\n",
            "Requirement already satisfied: MarkupSafe>=0.23 in /usr/local/lib/python3.7/dist-packages (from jinja2>=2.11.2->minerl==1.0.0) (2.0.1)\n",
            "Requirement already satisfied: ptyprocess>=0.5 in /usr/local/lib/python3.7/dist-packages (from pexpect>4.3->ipython>=7.5.0->minerl==1.0.0) (0.7.0)\n",
            "Requirement already satisfied: wcwidth in /usr/local/lib/python3.7/dist-packages (from prompt-toolkit!=3.0.0,!=3.0.1,<3.1.0,>=2.0.0->ipython>=7.5.0->minerl==1.0.0) (0.2.5)\n",
            "Requirement already satisfied: future in /usr/local/lib/python3.7/dist-packages (from pyglet->minerl==1.0.0) (0.16.0)\n",
            "Collecting serpent>=1.27\n",
            "  Downloading serpent-1.41-py3-none-any.whl (9.6 kB)\n",
            "Requirement already satisfied: certifi>=2017.4.17 in /usr/local/lib/python3.7/dist-packages (from requests>=2.20.0->minerl==1.0.0) (2022.6.15)\n",
            "Requirement already satisfied: urllib3!=1.25.0,!=1.25.1,<1.26,>=1.21.1 in /usr/local/lib/python3.7/dist-packages (from requests>=2.20.0->minerl==1.0.0) (1.24.3)\n",
            "Requirement already satisfied: idna<3,>=2.5 in /usr/local/lib/python3.7/dist-packages (from requests>=2.20.0->minerl==1.0.0) (2.10)\n",
            "Requirement already satisfied: chardet<4,>=3.0.2 in /usr/local/lib/python3.7/dist-packages (from requests>=2.20.0->minerl==1.0.0) (3.0.4)\n",
            "Building wheels for collected packages: minerl, getch, imagehash, typing\n",
            "  Building wheel for minerl (setup.py) ... \u001b[?25l\u001b[?25hdone\n",
            "  Created wheel for minerl: filename=minerl-1.0.0-cp37-cp37m-linux_x86_64.whl size=1342366626 sha256=35f324ed6d02a612a066ec38a929a448413e35917eb829edd6521a8f64144566\n",
            "  Stored in directory: /tmp/pip-ephem-wheel-cache-ppc17ix6/wheels/f6/12/c6/3c6fc4bd0458827659cfba0f4a40d20c2890a698435f2bb78f\n",
            "  Building wheel for getch (setup.py) ... \u001b[?25l\u001b[?25hdone\n",
            "  Created wheel for getch: filename=getch-1.0-cp37-cp37m-linux_x86_64.whl size=15134 sha256=b352913e45e22ccb5a6f9c8cb3275617f24424ccc35eedc1d011fcc191346095\n",
            "  Stored in directory: /root/.cache/pip/wheels/f1/12/2d/cda22b14c0da6e39eca4a204585db4f7ea4e5c478207dfe1b3\n",
            "  Building wheel for imagehash (setup.py) ... \u001b[?25l\u001b[?25hdone\n",
            "  Created wheel for imagehash: filename=ImageHash-4.2.1-py2.py3-none-any.whl size=295206 sha256=3e95809406c2a749478c84f95a407331aa4b6963c5bffc1e4ba9461090574cb5\n",
            "  Stored in directory: /root/.cache/pip/wheels/4c/d5/59/5e3e297533ddb09407769762985d134135064c6831e29a914e\n",
            "  Building wheel for typing (setup.py) ... \u001b[?25l\u001b[?25hdone\n",
            "  Created wheel for typing: filename=typing-3.7.4.3-py3-none-any.whl size=26325 sha256=bc50bcb470ac97d2cd2329fc265b66ab419204c486f2f3e5ebd1bac8bc5abacf\n",
            "  Stored in directory: /root/.cache/pip/wheels/35/f3/15/01aa6571f0a72ee6ae7b827c1491c37a1f72d686fd22b43b0e\n",
            "Successfully built minerl getch imagehash typing\n",
            "Installing collected packages: serpent, prompt-toolkit, pillow, humanfriendly, xmltodict, typing, Pyro4, psutil, lxml, ipython, inflection, imagehash, getch, flaky, daemoniker, coloredlogs, minerl\n",
            "  Attempting uninstall: prompt-toolkit\n",
            "    Found existing installation: prompt-toolkit 1.0.18\n",
            "    Uninstalling prompt-toolkit-1.0.18:\n",
            "      Successfully uninstalled prompt-toolkit-1.0.18\n",
            "  Attempting uninstall: pillow\n",
            "    Found existing installation: Pillow 7.1.2\n",
            "    Uninstalling Pillow-7.1.2:\n",
            "      Successfully uninstalled Pillow-7.1.2\n",
            "  Attempting uninstall: psutil\n",
            "    Found existing installation: psutil 5.4.8\n",
            "    Uninstalling psutil-5.4.8:\n",
            "      Successfully uninstalled psutil-5.4.8\n",
            "  Attempting uninstall: lxml\n",
            "    Found existing installation: lxml 4.2.6\n",
            "    Uninstalling lxml-4.2.6:\n",
            "      Successfully uninstalled lxml-4.2.6\n",
            "  Attempting uninstall: ipython\n",
            "    Found existing installation: ipython 5.5.0\n",
            "    Uninstalling ipython-5.5.0:\n",
            "      Successfully uninstalled ipython-5.5.0\n",
            "\u001b[31mERROR: pip's dependency resolver does not currently take into account all the packages that are installed. This behaviour is the source of the following dependency conflicts.\n",
            "jupyter-console 5.2.0 requires prompt-toolkit<2.0.0,>=1.0.0, but you have prompt-toolkit 3.0.30 which is incompatible.\n",
            "google-colab 1.0.0 requires ipython~=5.5.0, but you have ipython 7.34.0 which is incompatible.\n",
            "albumentations 0.1.12 requires imgaug<0.2.7,>=0.2.5, but you have imgaug 0.2.9 which is incompatible.\u001b[0m\n",
            "Successfully installed Pyro4-4.82 coloredlogs-15.0.1 daemoniker-0.2.3 flaky-3.7.0 getch-1.0 humanfriendly-10.0 imagehash-4.2.1 inflection-0.5.1 ipython-7.34.0 lxml-4.9.1 minerl-1.0.0 pillow-9.2.0 prompt-toolkit-3.0.30 psutil-5.9.1 serpent-1.41 typing-3.7.4.3 xmltodict-0.12.0\n"
          ]
        },
        {
          "data": {
            "application/vnd.colab-display-data+json": {
              "pip_warning": {
                "packages": [
                  "IPython",
                  "PIL",
                  "prompt_toolkit",
                  "psutil",
                  "typing"
                ]
              }
            }
          },
          "metadata": {},
          "output_type": "display_data"
        }
      ],
      "source": [
        "!pip3 install --upgrade git+https://github.com/minerllabs/minerl@v1.0.0\n",
        "import minerl"
      ],
      "id": "2f8ffcdc"
    },
    {
      "cell_type": "code",
      "execution_count": null,
      "metadata": {
        "id": "J0qVAisIseua"
      },
      "outputs": [],
      "source": [
        "!pip3 install pyvirtualdisplay gym -q\n",
        "!pip3 install -U colabgymrender -q\n",
        "!sudo apt install xvfb > /dev/null\n",
        "!pip install gym3 imageio-ffmpeg -q"
      ],
      "id": "J0qVAisIseua"
    },
    {
      "cell_type": "markdown",
      "metadata": {
        "id": "d5LOSfCqsgtz"
      },
      "source": [
        "# Set up environment (rerun this if you get startup errors)"
      ],
      "id": "d5LOSfCqsgtz"
    },
    {
      "cell_type": "code",
      "execution_count": null,
      "metadata": {
        "colab": {
          "background_save": true
        },
        "id": "7rsKHmOGtlGF",
        "outputId": "ab826dd6-16e4-49cd-e545-719fc01ce340"
      },
      "outputs": [
        {
          "ename": "RuntimeError",
          "evalue": "ignored",
          "output_type": "error",
          "traceback": [
            "\u001b[0;31m---------------------------------------------------------------------------\u001b[0m",
            "\u001b[0;31mRuntimeError\u001b[0m                              Traceback (most recent call last)",
            "\u001b[0;32m<ipython-input-5-a74098a88b7a>\u001b[0m in \u001b[0;36m<module>\u001b[0;34m()\u001b[0m\n\u001b[1;32m      1\u001b[0m \u001b[0;32mfrom\u001b[0m \u001b[0mminerl\u001b[0m\u001b[0;34m.\u001b[0m\u001b[0mherobraine\u001b[0m\u001b[0;34m.\u001b[0m\u001b[0menv_specs\u001b[0m\u001b[0;34m.\u001b[0m\u001b[0mhuman_survival_specs\u001b[0m \u001b[0;32mimport\u001b[0m \u001b[0mHumanSurvival\u001b[0m \u001b[0;32mas\u001b[0m \u001b[0mEnv\u001b[0m\u001b[0;34m\u001b[0m\u001b[0;34m\u001b[0m\u001b[0m\n\u001b[0;32m----> 2\u001b[0;31m \u001b[0;32mfrom\u001b[0m \u001b[0mcolabgymrender\u001b[0m\u001b[0;34m.\u001b[0m\u001b[0mrecorder\u001b[0m \u001b[0;32mimport\u001b[0m \u001b[0mRecorder\u001b[0m\u001b[0;34m\u001b[0m\u001b[0;34m\u001b[0m\u001b[0m\n\u001b[0m\u001b[1;32m      3\u001b[0m \u001b[0;32mfrom\u001b[0m \u001b[0mpyvirtualdisplay\u001b[0m \u001b[0;32mimport\u001b[0m \u001b[0mDisplay\u001b[0m\u001b[0;34m\u001b[0m\u001b[0;34m\u001b[0m\u001b[0m\n",
            "\u001b[0;32m/usr/local/lib/python3.7/dist-packages/colabgymrender/recorder.py\u001b[0m in \u001b[0;36m<module>\u001b[0;34m()\u001b[0m\n\u001b[1;32m      1\u001b[0m \u001b[0;32mfrom\u001b[0m \u001b[0mIPython\u001b[0m\u001b[0;34m.\u001b[0m\u001b[0mcore\u001b[0m\u001b[0;34m.\u001b[0m\u001b[0mdisplay\u001b[0m \u001b[0;32mimport\u001b[0m \u001b[0mVideo\u001b[0m\u001b[0;34m,\u001b[0m \u001b[0mdisplay\u001b[0m\u001b[0;34m\u001b[0m\u001b[0;34m\u001b[0m\u001b[0m\n\u001b[0;32m----> 2\u001b[0;31m \u001b[0;32mfrom\u001b[0m \u001b[0mmoviepy\u001b[0m\u001b[0;34m.\u001b[0m\u001b[0meditor\u001b[0m \u001b[0;32mimport\u001b[0m \u001b[0;34m*\u001b[0m\u001b[0;34m\u001b[0m\u001b[0;34m\u001b[0m\u001b[0m\n\u001b[0m\u001b[1;32m      3\u001b[0m \u001b[0;32mimport\u001b[0m \u001b[0mtime\u001b[0m\u001b[0;34m\u001b[0m\u001b[0;34m\u001b[0m\u001b[0m\n\u001b[1;32m      4\u001b[0m \u001b[0;32mimport\u001b[0m \u001b[0mcv2\u001b[0m\u001b[0;34m\u001b[0m\u001b[0;34m\u001b[0m\u001b[0m\n\u001b[1;32m      5\u001b[0m \u001b[0;32mimport\u001b[0m \u001b[0mgym\u001b[0m\u001b[0;34m\u001b[0m\u001b[0;34m\u001b[0m\u001b[0m\n",
            "\u001b[0;32m/usr/local/lib/python3.7/dist-packages/moviepy/editor.py\u001b[0m in \u001b[0;36m<module>\u001b[0;34m()\u001b[0m\n\u001b[1;32m     24\u001b[0m \u001b[0;31m# Checks to see if the user has set a place for their own version of ffmpeg\u001b[0m\u001b[0;34m\u001b[0m\u001b[0;34m\u001b[0m\u001b[0;34m\u001b[0m\u001b[0m\n\u001b[1;32m     25\u001b[0m \u001b[0;32mif\u001b[0m \u001b[0mos\u001b[0m\u001b[0;34m.\u001b[0m\u001b[0mgetenv\u001b[0m\u001b[0;34m(\u001b[0m\u001b[0;34m'FFMPEG_BINARY'\u001b[0m\u001b[0;34m,\u001b[0m \u001b[0;34m'ffmpeg-imageio'\u001b[0m\u001b[0;34m)\u001b[0m \u001b[0;34m==\u001b[0m \u001b[0;34m'ffmpeg-imageio'\u001b[0m\u001b[0;34m:\u001b[0m\u001b[0;34m\u001b[0m\u001b[0;34m\u001b[0m\u001b[0m\n\u001b[0;32m---> 26\u001b[0;31m     \u001b[0mimageio\u001b[0m\u001b[0;34m.\u001b[0m\u001b[0mplugins\u001b[0m\u001b[0;34m.\u001b[0m\u001b[0mffmpeg\u001b[0m\u001b[0;34m.\u001b[0m\u001b[0mdownload\u001b[0m\u001b[0;34m(\u001b[0m\u001b[0;34m)\u001b[0m\u001b[0;34m\u001b[0m\u001b[0;34m\u001b[0m\u001b[0m\n\u001b[0m\u001b[1;32m     27\u001b[0m \u001b[0;34m\u001b[0m\u001b[0m\n\u001b[1;32m     28\u001b[0m \u001b[0;31m# Clips\u001b[0m\u001b[0;34m\u001b[0m\u001b[0;34m\u001b[0m\u001b[0;34m\u001b[0m\u001b[0m\n",
            "\u001b[0;32m/usr/local/lib/python3.7/dist-packages/imageio/plugins/ffmpeg.py\u001b[0m in \u001b[0;36mdownload\u001b[0;34m(directory, force_download)\u001b[0m\n\u001b[1;32m    147\u001b[0m \u001b[0;32mdef\u001b[0m \u001b[0mdownload\u001b[0m\u001b[0;34m(\u001b[0m\u001b[0mdirectory\u001b[0m\u001b[0;34m=\u001b[0m\u001b[0;32mNone\u001b[0m\u001b[0;34m,\u001b[0m \u001b[0mforce_download\u001b[0m\u001b[0;34m=\u001b[0m\u001b[0;32mFalse\u001b[0m\u001b[0;34m)\u001b[0m\u001b[0;34m:\u001b[0m  \u001b[0;31m# pragma: no cover\u001b[0m\u001b[0;34m\u001b[0m\u001b[0;34m\u001b[0m\u001b[0m\n\u001b[1;32m    148\u001b[0m     raise RuntimeError(\n\u001b[0;32m--> 149\u001b[0;31m         \u001b[0;34m\"imageio.ffmpeg.download() has been deprecated. \"\u001b[0m\u001b[0;34m\u001b[0m\u001b[0;34m\u001b[0m\u001b[0m\n\u001b[0m\u001b[1;32m    150\u001b[0m         \u001b[0;34m\"Use 'pip install imageio-ffmpeg' instead.'\"\u001b[0m\u001b[0;34m\u001b[0m\u001b[0;34m\u001b[0m\u001b[0m\n\u001b[1;32m    151\u001b[0m     )\n",
            "\u001b[0;31mRuntimeError\u001b[0m: imageio.ffmpeg.download() has been deprecated. Use 'pip install imageio-ffmpeg' instead.'"
          ]
        }
      ],
      "source": [
        "from minerl.herobraine.env_specs.human_survival_specs import HumanSurvival as Env\n",
        "from colabgymrender.recorder import Recorder\n",
        "from pyvirtualdisplay import Display"
      ],
      "id": "7rsKHmOGtlGF"
    },
    {
      "cell_type": "code",
      "execution_count": null,
      "metadata": {
        "id": "MeNn8uJFW8KP"
      },
      "outputs": [],
      "source": [
        "display = Display(visible=0, size=(720, 480))\n",
        "display.start()\n",
        "env = Env(resolution=[640, 360], fov_range=[70., 70.], guiscale_range=[1., 1.]).make()\n",
        "env = Recorder(env, \"./video\", fps=30)"
      ],
      "id": "MeNn8uJFW8KP"
    },
    {
      "cell_type": "markdown",
      "metadata": {
        "id": "IKKnMC7gsm7V"
      },
      "source": [
        "# Set up model"
      ],
      "id": "IKKnMC7gsm7V"
    },
    {
      "cell_type": "code",
      "execution_count": null,
      "metadata": {
        "id": "QGegHQd_mFLF"
      },
      "outputs": [],
      "source": [
        "from agent import MineRLAgent\n",
        "import pickle\n",
        "import torch\n",
        "\n",
        "\n",
        "weights_file = \"https://openaipublic.blob.core.windows.net/minecraft-rl/models/rl-from-early-game-2x.weights\"  #@param {type: \"string\", allow-input:true} [\"https://openaipublic.blob.core.windows.net/minecraft-rl/models/foundation-model-1x.weights\", \"https://openaipublic.blob.core.windows.net/minecraft-rl/models/foundation-model-2x.weights\", \"https://openaipublic.blob.core.windows.net/minecraft-rl/models/foundation-model-1x.weights\", \"https://openaipublic.blob.core.windows.net/minecraft-rl/models/bc-house-3x.weights\", \"https://openaipublic.blob.core.windows.net/minecraft-rl/models/bc-early-game-2x.weights\", \"https://openaipublic.blob.core.windows.net/minecraft-rl/models/bc-early-game-3x.weights\", \"https://openaipublic.blob.core.windows.net/minecraft-rl/models/rl-from-foundation-2x.weights\", \"https://openaipublic.blob.core.windows.net/minecraft-rl/models/rl-from-house-2x.weights\", \"https://openaipublic.blob.core.windows.net/minecraft-rl/models/rl-from-early-game-2x.weights\"]\n",
        "multiplier = [x for x in [\"1x\", \"2x\", \"3x\"] if x in weights_file][0]\n",
        "!wget -c {weights_file} -O model\n",
        "!wget -c https://openaipublic.blob.core.windows.net/minecraft-rl/models/{multiplier}.model -O model\n",
        "!wget -c {weights_file} -O weights\n",
        "agent_parameters = pickle.load(open(\"model\", \"rb\"))\n",
        "policy_kwargs = agent_parameters[\"model\"][\"args\"][\"net\"][\"args\"]\n",
        "pi_head_kwargs = agent_parameters[\"model\"][\"args\"][\"pi_head_opts\"]\n",
        "pi_head_kwargs[\"temperature\"] = float(pi_head_kwargs[\"temperature\"])\n",
        "agent = MineRLAgent(env, policy_kwargs=policy_kwargs, pi_head_kwargs=pi_head_kwargs, device=\"cuda\" if torch.cuda.is_available() else \"cpu\")\n",
        "agent.load_weights(\"weights\")"
      ],
      "id": "QGegHQd_mFLF"
    },
    {
      "cell_type": "markdown",
      "metadata": {
        "id": "3ggc1oQmslOT"
      },
      "source": [
        "# Run model"
      ],
      "id": "3ggc1oQmslOT"
    },
    {
      "cell_type": "code",
      "execution_count": null,
      "metadata": {
        "id": "-n_KVzD5q-Qv"
      },
      "outputs": [],
      "source": [
        "obs = env.reset()"
      ],
      "id": "-n_KVzD5q-Qv"
    },
    {
      "cell_type": "code",
      "execution_count": null,
      "metadata": {
        "cellView": "form",
        "id": "TUiVH1iWnFMW"
      },
      "outputs": [],
      "source": [
        "from IPython.display import clear_output\n",
        "from matplotlib import pyplot as plt\n",
        "from tqdm.auto import trange\n",
        "\n",
        "\n",
        "play_steps = 922  #@param {type: \"number\"}\n",
        "live_display = False  #@param {type: \"boolean\"}\n",
        "try:\n",
        "    for _ in trange(play_steps):  # The t part will get erased anyway\n",
        "        minerl_action = agent.get_action(obs)\n",
        "        obs, reward, done, info = env.step(minerl_action)\n",
        "        if done:\n",
        "            break\n",
        "        if live_display:\n",
        "            clear_output(wait=True)\n",
        "            plt.axis(\"off\")\n",
        "            plt.imshow(obs[\"pov\"])\n",
        "            plt.show()\n",
        "except KeyboardInterrupt:\n",
        "    pass\n"
      ],
      "id": "TUiVH1iWnFMW"
    },
    {
      "cell_type": "code",
      "execution_count": null,
      "metadata": {
        "cellView": "form",
        "id": "0eSkugXSq81y"
      },
      "outputs": [],
      "source": [
        "#@title Show the result\n",
        "env.release()\n",
        "env.play()"
      ],
      "id": "0eSkugXSq81y"
    },
    {
      "cell_type": "markdown",
      "metadata": {
        "id": "Q4vl6lGaUbmj"
      },
      "source": [
        "by @nev#4950"
      ],
      "id": "Q4vl6lGaUbmj"
    }
  ],
  "metadata": {
    "colab": {
      "provenance": [],
      "include_colab_link": true
    },
    "kernelspec": {
      "display_name": "Python 3",
      "language": "python",
      "name": "python3"
    },
    "language_info": {
      "codemirror_mode": {
        "name": "ipython",
        "version": 3
      },
      "file_extension": ".py",
      "mimetype": "text/x-python",
      "name": "python",
      "nbconvert_exporter": "python",
      "pygments_lexer": "ipython3",
      "version": "3.7.12"
    },
    "papermill": {
      "default_parameters": {},
      "duration": 1122.250215,
      "end_time": "2022-06-30T11:52:46.111088",
      "environment_variables": {},
      "exception": null,
      "input_path": "__notebook__.ipynb",
      "output_path": "__notebook__.ipynb",
      "parameters": {},
      "start_time": "2022-06-30T11:34:03.860873",
      "version": "2.3.4"
    }
  },
  "nbformat": 4,
  "nbformat_minor": 5
}